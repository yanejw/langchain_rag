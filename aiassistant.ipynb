{
 "cells": [
  {
   "cell_type": "markdown",
   "id": "107b9ec9-ec01-4b54-9faf-9de7ed51428f",
   "metadata": {},
   "source": [
    "# AI Assitant Chatbot Using Langchain and RAG"
   ]
  },
  {
   "cell_type": "code",
   "execution_count": 1,
   "id": "8ee35bff-e75f-4c0a-b7c2-bd78196018cc",
   "metadata": {},
   "outputs": [],
   "source": [
    "# one time pip installs\n",
    "\n",
    "# !pip install chromadb tiktoken pypdf docx2txt regex"
   ]
  },
  {
   "cell_type": "code",
   "execution_count": 2,
   "id": "d31eadf9-0220-48fa-95b8-09352605601a",
   "metadata": {},
   "outputs": [],
   "source": [
    "# import necessary libraries\n",
    "\n",
    "import os # for openai\n",
    "from langchain.chains import RetrievalQA\n",
    "from langchain.llms import OpenAI\n",
    "from langchain.chat_models import ChatOpenAI\n",
    "from langchain.document_loaders import CSVLoader, TextLoader, PyPDFLoader, Docx2txtLoader\n",
    "from langchain.vectorstores import DocArrayInMemorySearch, Chroma\n",
    "from langchain.indexes import VectorstoreIndexCreator\n",
    "from langchain.text_splitter import CharacterTextSplitter, RecursiveCharacterTextSplitter\n",
    "from langchain.embeddings import OpenAIEmbeddings\n",
    "from langchain.prompts import PromptTemplate\n",
    "import re # regex"
   ]
  },
  {
   "cell_type": "code",
   "execution_count": 3,
   "id": "e6cccf1d-cf83-484a-9180-7e7462cf6c0c",
   "metadata": {},
   "outputs": [],
   "source": [
    "# openai apikey\n",
    "\n",
    "api = 'config.py'\n",
    "def get_file_contents(api):\n",
    "    \"\"\" Given a filename,\n",
    "        return the contents of that file\n",
    "    \"\"\"\n",
    "    try:\n",
    "        with open(api, 'r') as f:\n",
    "            # It's assumed our file contains a single line,\n",
    "            # with our API key\n",
    "            return f.read().strip()\n",
    "    except FileNotFoundError:\n",
    "        print(\"'%s' file not found\" % filename)"
   ]
  },
  {
   "cell_type": "code",
   "execution_count": 4,
   "id": "67a92c29-f588-4f85-8908-280ff5abec8d",
   "metadata": {},
   "outputs": [],
   "source": [
    "# set the llm and apikey\n",
    "\n",
    "api_key = get_file_contents(api)\n",
    "os.environ[\"OPENAI_API_KEY\"] = api_key\n",
    "\n",
    "llm = OpenAI() # default in langchain is gpt-3.5-turbo"
   ]
  },
  {
   "cell_type": "markdown",
   "id": "0618543f-e24f-4306-ab62-5d866cf9b117",
   "metadata": {},
   "source": [
    "## First iteration: validation of Langchain doc loader according to file type"
   ]
  },
  {
   "cell_type": "markdown",
   "id": "e7ca6220-4e14-4ed5-81da-072ce46de89d",
   "metadata": {},
   "source": [
    "**Em Thompson**"
   ]
  },
  {
   "cell_type": "code",
   "execution_count": 8,
   "id": "6ee8a2b4-01b2-4067-8168-493b8b5f19ef",
   "metadata": {},
   "outputs": [],
   "source": [
    "\n",
    "file = \"data/emthompson1.pdf\"\n",
    "\n",
    "# instatiate document loader according to file type (based on regex for validation)\n",
    "re_doc = '\\.(docx|DOCX)$'\n",
    "re_pdf = '\\.(pdf|PDF)$'\n",
    "re_txt = '\\.(txt|TXT)$'\n",
    "\n",
    "if re.search(re_doc, file) != None:\n",
    "    loader = Docx2txtLoader(file_path = file)\n",
    "elif re.search(re_pdf, file) != None:\n",
    "    loader = PyPDFLoader(file_path = file)\n",
    "elif re.search(re_txt, file) != None:\n",
    "    loader = TextLoader(file_path = file)\n",
    "else: print(\"Please upload a .docx, .pdf. or .txt file.\")\n",
    "\n",
    "documents = loader.load()\n",
    "\n",
    "# split the documents into chunks\n",
    "text_splitter = RecursiveCharacterTextSplitter(chunk_size=300, chunk_overlap=5)\n",
    "texts = text_splitter.split_documents(documents)\n",
    "\n",
    "# select which embeddings we want to use\n",
    "embeddings = OpenAIEmbeddings()\n",
    "\n",
    "# create the vectorestore to use as the index\n",
    "db = Chroma.from_documents(texts, embeddings)\n",
    "\n",
    "# expose this index in a retriever interface\n",
    "retriever = db.as_retriever(search_type=\"similarity\", search_kwargs={\"k\":5}) # default: cosine similarity; k = 2 is alright, because the article is small\n",
    "\n",
    "# create a chain to answer questions\n",
    "qa = RetrievalQA.from_chain_type(llm=OpenAI(), \n",
    "                                 chain_type=\"stuff\", \n",
    "                                 retriever=retriever,\n",
    "                                 return_source_documents=True)"
   ]
  },
  {
   "cell_type": "code",
   "execution_count": 9,
   "id": "213db971-efd9-4df5-a7cb-db9094bf5f27",
   "metadata": {},
   "outputs": [
    {
     "data": {
      "text/plain": [
       "\" No, Emily's commitment to environmental consciousness and sustainable practices would likely mean that she would not be interested in plastic packaging.\""
      ]
     },
     "execution_count": 9,
     "metadata": {},
     "output_type": "execute_result"
    }
   ],
   "source": [
    "query = \"Would Emily be interested in plastic packaging?\"\n",
    "result = qa({\"query\": query})\n",
    "result['result']"
   ]
  },
  {
   "cell_type": "code",
   "execution_count": 10,
   "id": "4e86ce88-01fb-4217-a6e2-02f6cbe39f40",
   "metadata": {},
   "outputs": [
    {
     "data": {
      "text/plain": [
       "' Emily is 35 years old.'"
      ]
     },
     "execution_count": 10,
     "metadata": {},
     "output_type": "execute_result"
    }
   ],
   "source": [
    "query = \"How old is Emily?\"\n",
    "result = qa({\"query\": query})\n",
    "result['result']"
   ]
  },
  {
   "cell_type": "markdown",
   "id": "4baef818-37a7-4e3f-8f62-9f777301f6ff",
   "metadata": {},
   "source": [
    "**Anne Frank**"
   ]
  },
  {
   "cell_type": "code",
   "execution_count": 14,
   "id": "87ee9b7c-0e4c-4573-9561-120fd36f9360",
   "metadata": {},
   "outputs": [],
   "source": [
    "\n",
    "af_file = \"data/sample.docx\"\n",
    "\n",
    "# instatiate document loader according to file type (based on regex for validation)\n",
    "re_doc = '\\.(docx|DOCX)$'\n",
    "re_pdf = '\\.(pdf|PDF)$'\n",
    "re_txt = '\\.(txt|TXT)$'\n",
    "\n",
    "if re.search(re_doc, af_file) != None:\n",
    "    af_loader = Docx2txtLoader(file_path = af_file)\n",
    "elif re.search(re_pdf, af_file) != None:\n",
    "    af_loader = PyPDFLoader(file_path = af_file)\n",
    "elif re.search(re_txt, af_file) != None:\n",
    "    af_loader = TextLoader(file_path = af_file)\n",
    "else: print(\"Please upload a .docx, .pdf. or .txt file.\")\n",
    "\n",
    "af_documents = af_loader.load()\n",
    "\n",
    "# split the documents into chunks\n",
    "af_text_splitter = RecursiveCharacterTextSplitter(chunk_size=1000, chunk_overlap=5)\n",
    "af_texts = af_text_splitter.split_documents(af_documents)\n",
    "\n",
    "# select which embeddings we want to use\n",
    "af_embeddings = OpenAIEmbeddings()\n",
    "\n",
    "# create the vectorestore to use as the index\n",
    "af_db = Chroma.from_documents(af_texts, af_embeddings)\n",
    "\n",
    "# expose this index in a retriever interface\n",
    "af_retriever = af_db.as_retriever(search_type=\"similarity\", search_kwargs={\"k\":5}) # default: cosine similarity; k = 2 is alright, because the article is small\n",
    "\n",
    "# create a chain to answer questions\n",
    "af_qa = RetrievalQA.from_chain_type(llm=OpenAI(), \n",
    "                                 chain_type=\"stuff\", \n",
    "                                 retriever=af_retriever,\n",
    "                                 return_source_documents=True)"
   ]
  },
  {
   "cell_type": "code",
   "execution_count": 16,
   "id": "fe2af1fe-0ac1-43da-9c6d-75ca7ccc359e",
   "metadata": {},
   "outputs": [
    {
     "data": {
      "text/plain": [
       "' Emily is 35 years old (born on June 15, 1985).'"
      ]
     },
     "execution_count": 16,
     "metadata": {},
     "output_type": "execute_result"
    }
   ],
   "source": [
    "af_query = \"When was Anne's first entry\"\n",
    "af_result = af_qa({\"query\": query})\n",
    "af_result['result']"
   ]
  },
  {
   "cell_type": "markdown",
   "id": "039ebc07-dc6c-4243-ac75-be3badf4eaf1",
   "metadata": {},
   "source": [
    "**Observations**\n",
    "\n",
    "* Need to restart kernel before loading new document\n",
    "* Unable to get correct answers for word document - could it be due to formatting? or chunk size?"
   ]
  },
  {
   "cell_type": "markdown",
   "id": "8935734e-00a9-4718-bd97-e89a6e4bb959",
   "metadata": {},
   "source": [
    "**Chunk size = 300**"
   ]
  },
  {
   "cell_type": "code",
   "execution_count": 8,
   "id": "1ab97fda-97a7-450b-9309-585554f0e634",
   "metadata": {},
   "outputs": [
    {
     "data": {
      "text/plain": [
       "' Wednesday, July 8, 1942'"
      ]
     },
     "execution_count": 8,
     "metadata": {},
     "output_type": "execute_result"
    }
   ],
   "source": [
    "af_query = \"When was Anne's first entry\"\n",
    "af_result = af_qa({\"query\": af_query})\n",
    "af_result['result']"
   ]
  },
  {
   "cell_type": "code",
   "execution_count": 9,
   "id": "fc510bf7-aaa3-44b1-a444-96891633a680",
   "metadata": {},
   "outputs": [
    {
     "data": {
      "text/plain": [
       "\" Anne does not mention her birthday in this context, so I don't know.\""
      ]
     },
     "execution_count": 9,
     "metadata": {},
     "output_type": "execute_result"
    }
   ],
   "source": [
    "af_query = \"When is Anne's birthday\"\n",
    "af_result = af_qa({\"query\": af_query})\n",
    "af_result['result']"
   ]
  },
  {
   "cell_type": "code",
   "execution_count": 10,
   "id": "33971f73-97c1-47e7-bfbd-f6ea97330f7d",
   "metadata": {},
   "outputs": [
    {
     "data": {
      "text/plain": [
       "\" I don't know.\""
      ]
     },
     "execution_count": 10,
     "metadata": {},
     "output_type": "execute_result"
    }
   ],
   "source": [
    "af_query = \"When was Anne born?\"\n",
    "af_result = af_qa({\"query\": af_query})\n",
    "af_result['result']"
   ]
  },
  {
   "cell_type": "code",
   "execution_count": 12,
   "id": "26579a36-c0a1-44bb-ab74-e73a45ff209a",
   "metadata": {},
   "outputs": [
    {
     "data": {
      "text/plain": [
       "\" I don't know.\""
      ]
     },
     "execution_count": 12,
     "metadata": {},
     "output_type": "execute_result"
    }
   ],
   "source": [
    "af_query = \"When was my sister Margot born?\"\n",
    "af_result = af_qa({\"query\": af_query})\n",
    "af_result['result']"
   ]
  },
  {
   "cell_type": "code",
   "execution_count": 13,
   "id": "5bce954e-cfc0-4676-afe2-358f339e72ff",
   "metadata": {},
   "outputs": [
    {
     "data": {
      "text/plain": [
       "' June 20, 1942'"
      ]
     },
     "execution_count": 13,
     "metadata": {},
     "output_type": "execute_result"
    }
   ],
   "source": [
    "af_query = \"When did we celebrate my birthday?\"\n",
    "af_result = af_qa({\"query\": af_query})\n",
    "af_result['result']"
   ]
  },
  {
   "cell_type": "markdown",
   "id": "6aba8cde-06c4-49e4-b5d9-6089d6794c39",
   "metadata": {},
   "source": [
    "**Chunk size = 1000**"
   ]
  },
  {
   "cell_type": "code",
   "execution_count": 15,
   "id": "cfaa1b5c-1dab-47b2-b003-911cef1448e8",
   "metadata": {},
   "outputs": [
    {
     "data": {
      "text/plain": [
       "' We celebrated my birthday on June 20, 1942.'"
      ]
     },
     "execution_count": 15,
     "metadata": {},
     "output_type": "execute_result"
    }
   ],
   "source": [
    "af_query = \"When did we celebrate my birthday?\"\n",
    "af_result = af_qa({\"query\": af_query})\n",
    "af_result['result']"
   ]
  },
  {
   "cell_type": "code",
   "execution_count": 16,
   "id": "8bf9ada1-d0a0-48ac-bfa5-630ea9ff0015",
   "metadata": {},
   "outputs": [
    {
     "data": {
      "text/plain": [
       "' The Dutch Opekta Company.'"
      ]
     },
     "execution_count": 16,
     "metadata": {},
     "output_type": "execute_result"
    }
   ],
   "source": [
    "af_query = \"My father was managing director of which company?\"\n",
    "af_result = af_qa({\"query\": af_query})\n",
    "af_result['result']"
   ]
  },
  {
   "cell_type": "code",
   "execution_count": 17,
   "id": "7393c7c4-dec4-4719-b647-0ece26ff232f",
   "metadata": {},
   "outputs": [
    {
     "data": {
      "text/plain": [
       "' Father worked as a business partner and owner of a company dealing in spices and spice substitutes.'"
      ]
     },
     "execution_count": 17,
     "metadata": {},
     "output_type": "execute_result"
    }
   ],
   "source": [
    "af_query = \"What did my father work as\"\n",
    "af_result = af_qa({\"query\": af_query})\n",
    "af_result['result']"
   ]
  },
  {
   "cell_type": "code",
   "execution_count": 18,
   "id": "ab630749-e834-4941-8c45-78f8535c8fe3",
   "metadata": {},
   "outputs": [
    {
     "data": {
      "text/plain": [
       "' Margot was born in Frankfurt am Main in Germany in 1926.'"
      ]
     },
     "execution_count": 18,
     "metadata": {},
     "output_type": "execute_result"
    }
   ],
   "source": [
    "af_query = \"When was my sister Margot born?\"\n",
    "af_result = af_qa({\"query\": af_query})\n",
    "af_result['result']"
   ]
  },
  {
   "cell_type": "code",
   "execution_count": 19,
   "id": "d3bf5547-5bf4-4a4e-aa02-550267a7cbac",
   "metadata": {},
   "outputs": [
    {
     "data": {
      "text/plain": [
       "' June 12, 1929.'"
      ]
     },
     "execution_count": 19,
     "metadata": {},
     "output_type": "execute_result"
    }
   ],
   "source": [
    "af_query = \"When was I born?\"\n",
    "af_result = af_qa({\"query\": af_query})\n",
    "af_result['result']"
   ]
  },
  {
   "cell_type": "code",
   "execution_count": 20,
   "id": "c287c503-c871-4ff1-9315-7a4f16d7353e",
   "metadata": {},
   "outputs": [
    {
     "data": {
      "text/plain": [
       "' I lived in Frankfurt until I was four.'"
      ]
     },
     "execution_count": 20,
     "metadata": {},
     "output_type": "execute_result"
    }
   ],
   "source": [
    "af_query = \"Where did I live until I was four?\"\n",
    "af_result = af_qa({\"query\": af_query})\n",
    "af_result['result']"
   ]
  },
  {
   "cell_type": "code",
   "execution_count": 21,
   "id": "778ee9aa-93a6-4dc6-a689-69082527ed78",
   "metadata": {},
   "outputs": [
    {
     "data": {
      "text/plain": [
       "' He married my mother when he was thirty-six and she was twenty-five.'"
      ]
     },
     "execution_count": 21,
     "metadata": {},
     "output_type": "execute_result"
    }
   ],
   "source": [
    "af_query = \"When did my father marry my mother?\"\n",
    "af_result = af_qa({\"query\": af_query})\n",
    "af_result['result']"
   ]
  },
  {
   "cell_type": "code",
   "execution_count": null,
   "id": "85cca357-d3f2-414d-a114-f9d68bee3c6a",
   "metadata": {},
   "outputs": [],
   "source": []
  }
 ],
 "metadata": {
  "kernelspec": {
   "display_name": "Python 3 (ipykernel)",
   "language": "python",
   "name": "python3"
  },
  "language_info": {
   "codemirror_mode": {
    "name": "ipython",
    "version": 3
   },
   "file_extension": ".py",
   "mimetype": "text/x-python",
   "name": "python",
   "nbconvert_exporter": "python",
   "pygments_lexer": "ipython3",
   "version": "3.8.18"
  }
 },
 "nbformat": 4,
 "nbformat_minor": 5
}
